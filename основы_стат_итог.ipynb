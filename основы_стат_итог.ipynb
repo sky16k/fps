{
  "nbformat": 4,
  "nbformat_minor": 0,
  "metadata": {
    "colab": {
      "name": "основы стат_итог",
      "provenance": [],
      "collapsed_sections": [],
      "include_colab_link": true
    },
    "kernelspec": {
      "name": "python3",
      "display_name": "Python 3"
    },
    "language_info": {
      "name": "python"
    }
  },
  "cells": [
    {
      "cell_type": "markdown",
      "metadata": {
        "id": "view-in-github",
        "colab_type": "text"
      },
      "source": [
        "<a href=\"https://colab.research.google.com/github/sky16k/fps-3/blob/main/%D0%BE%D1%81%D0%BD%D0%BE%D0%B2%D1%8B_%D1%81%D1%82%D0%B0%D1%82_%D0%B8%D1%82%D0%BE%D0%B3.ipynb\" target=\"_parent\"><img src=\"https://colab.research.google.com/assets/colab-badge.svg\" alt=\"Open In Colab\"/></a>"
      ]
    },
    {
      "cell_type": "markdown",
      "source": [
        "#Итоговое задание «Путь аналитика»"
      ],
      "metadata": {
        "id": "9LoUYMRJ1r5Z"
      }
    },
    {
      "cell_type": "markdown",
      "source": [
        "##Задание"
      ],
      "metadata": {
        "id": "o5kPTEOQ5_7x"
      }
    },
    {
      "cell_type": "markdown",
      "source": [
        "Вопросы по заданию\n",
        "Преподаватель: Арсений Сова\n",
        "\n",
        "Цель задания:\n",
        "Собрать все полученные знания воедино. Исследовать данные, проверить гипотезу и сделать выводы.\n",
        "\n",
        "Описание задания:\n",
        "Поздравляем! Вы успешно прошли стажировку, помогли коллегам с исследованием и определили фактор влияющий на стратегию компании. Вас взяли в одно из подразделений группы компаний, Вы - Аналитик крупного агрегатора такси. Теперь перед Вами стоит важная задача: самостоятельно провести исследование данных, проверить гипотезу о поведенческом предпочтении пользователей к определённому классу такси и сделать выводы, чтобы помочь компании стать лучшей на рынке… Успехов!\n",
        "\n",
        "Используем датасет FPS_hw_x_df_x_taxi.xlsx.\n",
        "Исследуем данные и строим графики плотности распределения дистанций поездок для классов “Economy” и “Comfort”.\n",
        "Проверяем гипотезу: “На дальние поездки, пользователи предпочитают Economy-классу более комфортные условия поездки - Comfort-класс”.\n",
        "Делаем выводы по результатам проверки.\n",
        "Результат ДЗ предоставить в виде: ссылки на документ / файла.\n",
        "\n",
        "Выполняем в любом из инструментов - google-таблицы / google colaboratory (python) / excel.\n",
        "\n",
        "Убедитесь, что к google-таблице / ноутбуку предоставлен доступ по ссылке, иначе преподаватель не сможет проверить работу. Для этого можно открыть браузер в режиме инкогнито и убедиться, что ссылки открываются корректно.\n",
        "\n",
        "Как запустить chrome в режиме инкогнито\n",
        "\n",
        "Как запустить Safari в режиме инкогнито\n",
        "\n",
        "Критерии оценки задания:\n",
        "- Вычислена описательная статистика.\n",
        "- Построено распределение задействованных в гипотезе данных.\n",
        "- Проведена проверка гипотезы соответствующим статистическим критерием.\n",
        "- Сделаны выводы по результатам проверки.\n",
        "\n",
        "Описание датасета:\n",
        "\n",
        "Датасет содержит информацию о поездках на такси одного из известных агрегаторов.\n",
        "- order_gk – Идентификатор поездки\n",
        "- weekday_key – День недели совершения поездки\n",
        "- hour_key – Час совершения поездки\n",
        "- distance_km – Дистанция поездки\n",
        "- offer_class_group – Класс поездки (Economy; Comfort; Premium; Delivery)\n",
        "- driver_response – Статус поездки (1 – поездка совершена; 0 – отмена)\n",
        "'''"
      ],
      "metadata": {
        "id": "d6QvmxBsqVs4"
      }
    },
    {
      "cell_type": "markdown",
      "source": [
        "'''\n",
        "\n",
        "'''"
      ],
      "metadata": {
        "id": "ODfdrh24_TH_"
      }
    },
    {
      "cell_type": "markdown",
      "metadata": {
        "id": "twER9zXH6pNV"
      },
      "source": [
        "# Подключение библиотек"
      ]
    },
    {
      "cell_type": "code",
      "metadata": {
        "id": "hkRKXhIf6pNV"
      },
      "source": [
        "import copy\n",
        "import pandas as pd\n",
        "import seaborn as sns   #работа с красивыми графиками\n",
        "import matplotlib.pyplot as plt   #работа с графиками"
      ],
      "execution_count": 1,
      "outputs": []
    },
    {
      "cell_type": "markdown",
      "metadata": {
        "id": "7P1AuKKR6pNW"
      },
      "source": [
        "# Загрузка и просмотр данных"
      ]
    },
    {
      "cell_type": "code",
      "metadata": {
        "colab": {
          "base_uri": "https://localhost:8080/",
          "height": 206
        },
        "outputId": "ff7158be-e9a3-4bf7-ee49-da9ef1daca54",
        "id": "lZFQaKLk6pNW"
      },
      "source": [
        "df = pd.read_excel('FPS_hw_x_df_x_taxi.xlsx')#,index_col='date') #импорт с указанным индексом\n",
        "df.head()\n",
        "#len(df)"
      ],
      "execution_count": 2,
      "outputs": [
        {
          "output_type": "execute_result",
          "data": {
            "text/plain": [
              "   order_gk  weekday_key   hour_key  distance_km offer_class_group  \\\n",
              "0       412            7  22.967881    53.113626           Premium   \n",
              "1       436            3  19.439948     5.781342          Delivery   \n",
              "2      1327            6  19.816643    16.200071          Delivery   \n",
              "3      2013            2  19.123837    13.731643          Delivery   \n",
              "4      2241            6  23.164958    20.436380           Premium   \n",
              "\n",
              "   driver_response  \n",
              "0                1  \n",
              "1                1  \n",
              "2                0  \n",
              "3                0  \n",
              "4                1  "
            ],
            "text/html": [
              "\n",
              "  <div id=\"df-86f6a14e-c71a-43b8-aef4-e84909fd37de\">\n",
              "    <div class=\"colab-df-container\">\n",
              "      <div>\n",
              "<style scoped>\n",
              "    .dataframe tbody tr th:only-of-type {\n",
              "        vertical-align: middle;\n",
              "    }\n",
              "\n",
              "    .dataframe tbody tr th {\n",
              "        vertical-align: top;\n",
              "    }\n",
              "\n",
              "    .dataframe thead th {\n",
              "        text-align: right;\n",
              "    }\n",
              "</style>\n",
              "<table border=\"1\" class=\"dataframe\">\n",
              "  <thead>\n",
              "    <tr style=\"text-align: right;\">\n",
              "      <th></th>\n",
              "      <th>order_gk</th>\n",
              "      <th>weekday_key</th>\n",
              "      <th>hour_key</th>\n",
              "      <th>distance_km</th>\n",
              "      <th>offer_class_group</th>\n",
              "      <th>driver_response</th>\n",
              "    </tr>\n",
              "  </thead>\n",
              "  <tbody>\n",
              "    <tr>\n",
              "      <th>0</th>\n",
              "      <td>412</td>\n",
              "      <td>7</td>\n",
              "      <td>22.967881</td>\n",
              "      <td>53.113626</td>\n",
              "      <td>Premium</td>\n",
              "      <td>1</td>\n",
              "    </tr>\n",
              "    <tr>\n",
              "      <th>1</th>\n",
              "      <td>436</td>\n",
              "      <td>3</td>\n",
              "      <td>19.439948</td>\n",
              "      <td>5.781342</td>\n",
              "      <td>Delivery</td>\n",
              "      <td>1</td>\n",
              "    </tr>\n",
              "    <tr>\n",
              "      <th>2</th>\n",
              "      <td>1327</td>\n",
              "      <td>6</td>\n",
              "      <td>19.816643</td>\n",
              "      <td>16.200071</td>\n",
              "      <td>Delivery</td>\n",
              "      <td>0</td>\n",
              "    </tr>\n",
              "    <tr>\n",
              "      <th>3</th>\n",
              "      <td>2013</td>\n",
              "      <td>2</td>\n",
              "      <td>19.123837</td>\n",
              "      <td>13.731643</td>\n",
              "      <td>Delivery</td>\n",
              "      <td>0</td>\n",
              "    </tr>\n",
              "    <tr>\n",
              "      <th>4</th>\n",
              "      <td>2241</td>\n",
              "      <td>6</td>\n",
              "      <td>23.164958</td>\n",
              "      <td>20.436380</td>\n",
              "      <td>Premium</td>\n",
              "      <td>1</td>\n",
              "    </tr>\n",
              "  </tbody>\n",
              "</table>\n",
              "</div>\n",
              "      <button class=\"colab-df-convert\" onclick=\"convertToInteractive('df-86f6a14e-c71a-43b8-aef4-e84909fd37de')\"\n",
              "              title=\"Convert this dataframe to an interactive table.\"\n",
              "              style=\"display:none;\">\n",
              "        \n",
              "  <svg xmlns=\"http://www.w3.org/2000/svg\" height=\"24px\"viewBox=\"0 0 24 24\"\n",
              "       width=\"24px\">\n",
              "    <path d=\"M0 0h24v24H0V0z\" fill=\"none\"/>\n",
              "    <path d=\"M18.56 5.44l.94 2.06.94-2.06 2.06-.94-2.06-.94-.94-2.06-.94 2.06-2.06.94zm-11 1L8.5 8.5l.94-2.06 2.06-.94-2.06-.94L8.5 2.5l-.94 2.06-2.06.94zm10 10l.94 2.06.94-2.06 2.06-.94-2.06-.94-.94-2.06-.94 2.06-2.06.94z\"/><path d=\"M17.41 7.96l-1.37-1.37c-.4-.4-.92-.59-1.43-.59-.52 0-1.04.2-1.43.59L10.3 9.45l-7.72 7.72c-.78.78-.78 2.05 0 2.83L4 21.41c.39.39.9.59 1.41.59.51 0 1.02-.2 1.41-.59l7.78-7.78 2.81-2.81c.8-.78.8-2.07 0-2.86zM5.41 20L4 18.59l7.72-7.72 1.47 1.35L5.41 20z\"/>\n",
              "  </svg>\n",
              "      </button>\n",
              "      \n",
              "  <style>\n",
              "    .colab-df-container {\n",
              "      display:flex;\n",
              "      flex-wrap:wrap;\n",
              "      gap: 12px;\n",
              "    }\n",
              "\n",
              "    .colab-df-convert {\n",
              "      background-color: #E8F0FE;\n",
              "      border: none;\n",
              "      border-radius: 50%;\n",
              "      cursor: pointer;\n",
              "      display: none;\n",
              "      fill: #1967D2;\n",
              "      height: 32px;\n",
              "      padding: 0 0 0 0;\n",
              "      width: 32px;\n",
              "    }\n",
              "\n",
              "    .colab-df-convert:hover {\n",
              "      background-color: #E2EBFA;\n",
              "      box-shadow: 0px 1px 2px rgba(60, 64, 67, 0.3), 0px 1px 3px 1px rgba(60, 64, 67, 0.15);\n",
              "      fill: #174EA6;\n",
              "    }\n",
              "\n",
              "    [theme=dark] .colab-df-convert {\n",
              "      background-color: #3B4455;\n",
              "      fill: #D2E3FC;\n",
              "    }\n",
              "\n",
              "    [theme=dark] .colab-df-convert:hover {\n",
              "      background-color: #434B5C;\n",
              "      box-shadow: 0px 1px 3px 1px rgba(0, 0, 0, 0.15);\n",
              "      filter: drop-shadow(0px 1px 2px rgba(0, 0, 0, 0.3));\n",
              "      fill: #FFFFFF;\n",
              "    }\n",
              "  </style>\n",
              "\n",
              "      <script>\n",
              "        const buttonEl =\n",
              "          document.querySelector('#df-86f6a14e-c71a-43b8-aef4-e84909fd37de button.colab-df-convert');\n",
              "        buttonEl.style.display =\n",
              "          google.colab.kernel.accessAllowed ? 'block' : 'none';\n",
              "\n",
              "        async function convertToInteractive(key) {\n",
              "          const element = document.querySelector('#df-86f6a14e-c71a-43b8-aef4-e84909fd37de');\n",
              "          const dataTable =\n",
              "            await google.colab.kernel.invokeFunction('convertToInteractive',\n",
              "                                                     [key], {});\n",
              "          if (!dataTable) return;\n",
              "\n",
              "          const docLinkHtml = 'Like what you see? Visit the ' +\n",
              "            '<a target=\"_blank\" href=https://colab.research.google.com/notebooks/data_table.ipynb>data table notebook</a>'\n",
              "            + ' to learn more about interactive tables.';\n",
              "          element.innerHTML = '';\n",
              "          dataTable['output_type'] = 'display_data';\n",
              "          await google.colab.output.renderOutput(dataTable, element);\n",
              "          const docLink = document.createElement('div');\n",
              "          docLink.innerHTML = docLinkHtml;\n",
              "          element.appendChild(docLink);\n",
              "        }\n",
              "      </script>\n",
              "    </div>\n",
              "  </div>\n",
              "  "
            ]
          },
          "metadata": {},
          "execution_count": 2
        }
      ]
    },
    {
      "cell_type": "code",
      "source": [
        "#plt.hist(df['distance_km'],50)"
      ],
      "metadata": {
        "id": "SAfJzbBI47Qk"
      },
      "execution_count": 3,
      "outputs": []
    },
    {
      "cell_type": "code",
      "source": [
        "#df.value_counts()"
      ],
      "metadata": {
        "id": "sGoyeaKG4BL4"
      },
      "execution_count": 4,
      "outputs": []
    },
    {
      "cell_type": "markdown",
      "source": [
        "#Предварительная обработка данных"
      ],
      "metadata": {
        "id": "gqyZAh-SbPha"
      }
    },
    {
      "cell_type": "code",
      "source": [
        "#отобрать только состоявшиеся поездки \n",
        "#судя по обсуждению на странице задания, не стоило это делать\n",
        "#df1 = df[df['driver_response'] != 0]\n",
        "#df1"
      ],
      "metadata": {
        "id": "UR4DR9MK9Piz"
      },
      "execution_count": 5,
      "outputs": []
    },
    {
      "cell_type": "code",
      "source": [
        "#df1.value_counts('driver_response')"
      ],
      "metadata": {
        "id": "qsl_9Tge_R0j"
      },
      "execution_count": 6,
      "outputs": []
    },
    {
      "cell_type": "code",
      "source": [
        "#отобрать поездки класса \"Комфорт\"\n",
        "df_c = df[df['offer_class_group'] == 'Comfort']\n",
        "print(df_c['distance_km'].describe())\n",
        "#df_c"
      ],
      "metadata": {
        "colab": {
          "base_uri": "https://localhost:8080/"
        },
        "id": "icljtNAp_Jyd",
        "outputId": "8304ff3b-b438-4f65-e211-b190fbae0430"
      },
      "execution_count": 7,
      "outputs": [
        {
          "output_type": "stream",
          "name": "stdout",
          "text": [
            "count    500.000000\n",
            "mean      29.758910\n",
            "std       17.644643\n",
            "min        0.024259\n",
            "25%       16.345205\n",
            "50%       28.078273\n",
            "75%       41.300650\n",
            "max       81.507022\n",
            "Name: distance_km, dtype: float64\n"
          ]
        }
      ]
    },
    {
      "cell_type": "code",
      "source": [
        "#отобрать поездки класса \"Эконом\"\n",
        "df_e = df[df['offer_class_group'] == 'Economy']\n",
        "print(df_e['distance_km'].describe())\n",
        "#df_e"
      ],
      "metadata": {
        "colab": {
          "base_uri": "https://localhost:8080/"
        },
        "outputId": "13b5afec-b6e2-4b67-d848-2a88a472aa98",
        "id": "xsJpd0Vm_sm-"
      },
      "execution_count": 8,
      "outputs": [
        {
          "output_type": "stream",
          "name": "stdout",
          "text": [
            "count    500.000000\n",
            "mean      26.283117\n",
            "std       17.016153\n",
            "min        0.089947\n",
            "25%       13.372229\n",
            "50%       23.798183\n",
            "75%       36.845287\n",
            "max       90.516618\n",
            "Name: distance_km, dtype: float64\n"
          ]
        }
      ]
    },
    {
      "cell_type": "code",
      "source": [
        "df_comp = df[df['offer_class_group'].isin(('Economy', 'Comfort'))]\n",
        "#df_comp"
      ],
      "metadata": {
        "id": "e9k-gJFnOg1M"
      },
      "execution_count": 9,
      "outputs": []
    },
    {
      "cell_type": "code",
      "source": [
        "\n",
        "sns.displot(x='distance_km', #разложить по значению в колонке 'Weight' \n",
        "            data=df_comp,    #взять данные из df\n",
        "            kde=True,   #добавить линию ядерной оценки плотности \n",
        "            hue='offer_class_group', #разделить и раскрасить по значению в колонке 'Gender'\n",
        "            bins=50,    #разделить гистограмму на 90 'корзин'\n",
        "            aspect=1.5, #вытянуть ширину в 1.5 раза от высоты\n",
        "            multiple='dodge', #расположить столбцы разных множеств рядом\n",
        "            legend = False, #убрать легенду\n",
        "            facet_kws={ #параметры сетки графиков\n",
        "              'despine':False  #вернуть рамки графиков в сетке\n",
        "              }) #\n",
        "plt.title('Плотность распределения дистанции от класса') #название всей области графиков\n",
        "plt.legend(['Comfort', 'Economy']) #подписи данных на графиках\n",
        "plt.show()\n",
        "\n"
      ],
      "metadata": {
        "colab": {
          "base_uri": "https://localhost:8080/",
          "height": 385
        },
        "id": "mt8E53kC8Syy",
        "outputId": "10ae858d-fde3-4faf-b0d9-c3e30e38a201"
      },
      "execution_count": 10,
      "outputs": [
        {
          "output_type": "display_data",
          "data": {
            "text/plain": [
              "<Figure size 540x360 with 1 Axes>"
            ],
            "image/png": "[encoded data removed]"
          },
          "metadata": {
            "needs_background": "light"
          }
        }
      ]
    },
    {
      "cell_type": "code",
      "source": [
        "'''\n",
        "sns.distplot(df_c['distance_km'],50)\n",
        "sns.distplot(df_e['distance_km'],50)\n",
        "plt.title('Плотность распределения веса от пола')\n",
        "#plt.legend(['Male', 'Female'])\n",
        "plt.show()\n",
        "'''"
      ],
      "metadata": {
        "colab": {
          "base_uri": "https://localhost:8080/",
          "height": 54
        },
        "id": "gRTIani0CM83",
        "outputId": "a1b265ff-d9d9-46f1-ff43-270635fccc57"
      },
      "execution_count": 11,
      "outputs": [
        {
          "output_type": "execute_result",
          "data": {
            "text/plain": [
              "\"\\nsns.distplot(df_c['distance_km'],50)\\nsns.distplot(df_e['distance_km'],50)\\nplt.title('Плотность распределения веса от пола')\\n#plt.legend(['Male', 'Female'])\\nplt.show()\\n\""
            ],
            "application/vnd.google.colaboratory.intrinsic+json": {
              "type": "string"
            }
          },
          "metadata": {},
          "execution_count": 11
        }
      ]
    },
    {
      "cell_type": "code",
      "source": [
        "df_comp.boxplot(column='distance_km',by='offer_class_group')"
      ],
      "metadata": {
        "colab": {
          "base_uri": "https://localhost:8080/",
          "height": 320
        },
        "id": "hEZ4W5ozZF7_",
        "outputId": "1fbee4e8-5140-4255-bc80-51c501ba215f"
      },
      "execution_count": 12,
      "outputs": [
        {
          "output_type": "execute_result",
          "data": {
            "text/plain": [
              "<matplotlib.axes._subplots.AxesSubplot at 0x7f656cd47a10>"
            ]
          },
          "metadata": {},
          "execution_count": 12
        },
        {
          "output_type": "display_data",
          "data": {
            "text/plain": [
              "<Figure size 432x288 with 1 Axes>"
            ],
            "image/png": "[encoded data removed]"
          },
          "metadata": {
            "needs_background": "light"
          }
        }
      ]
    },
    {
      "cell_type": "markdown",
      "source": [
        "Распределение плотности двух сравниваемых величин является близким к нормальному, а наборы данных для них одинаковой длины. Поэтому применим к ним методы Т-критерия Стьюдента и U-критерия Манна-Уитни."
      ],
      "metadata": {
        "id": "S9uhhPOiTmpx"
      }
    },
    {
      "cell_type": "markdown",
      "source": [
        "##Гипотеза\n",
        "- H0 - Средняя дистанция поездок класса \"Комфорт\" не больше средней дистанции поездок класса \"Эконом\".\n",
        "- HA - Средняя дистанция поездок класса \"Комфорт\" больше средней дистанции поездок класса \"Эконом\"."
      ],
      "metadata": {
        "id": "5O32euNCE15G"
      }
    },
    {
      "cell_type": "code",
      "metadata": {
        "id": "RYjflpc4AQIo"
      },
      "source": [
        "from scipy.stats import ttest_ind   #библиотека Т-теста - t-критерий Стьюдента\n",
        "from scipy.stats import mannwhitneyu    #библиотека теста Манна-Уитни\n",
        "\n",
        "alpha = 0.05                          # Уровень значимости"
      ],
      "execution_count": 13,
      "outputs": []
    },
    {
      "cell_type": "markdown",
      "metadata": {
        "id": "F6thXXtHTPQR"
      },
      "source": [
        "###Проведение Т-Теста (t-критерий Стьюдента)"
      ]
    },
    {
      "cell_type": "code",
      "metadata": {
        "colab": {
          "base_uri": "https://localhost:8080/"
        },
        "outputId": "efbc990f-c8c0-493a-ce15-78b04170bb5c",
        "id": "Pp-OfynaAe8k"
      },
      "source": [
        "result = ttest_ind(df_c['distance_km'], df_e['distance_km'], alternative='greater')\n",
        "print('p-value: %.5f' % result.pvalue)    #до 8 знака после запятой\n",
        "\n",
        "if (result.pvalue < alpha):\n",
        "    print('Отвергаем нулевую гипотезу')\n",
        "else:\n",
        "    print('Не отвергаем нулевую гипотезу')"
      ],
      "execution_count": 16,
      "outputs": [
        {
          "output_type": "stream",
          "name": "stdout",
          "text": [
            "p-value: 0.00078\n",
            "Отвергаем нулевую гипотезу\n"
          ]
        }
      ]
    },
    {
      "cell_type": "markdown",
      "source": [
        "Дистанция поездок класса \"Комфорт\" статистически значимо больше дистанции поездок класса \"Эконом\"."
      ],
      "metadata": {
        "id": "JPeu4rP9VsLD"
      }
    },
    {
      "cell_type": "markdown",
      "metadata": {
        "id": "dSd0AAMITLCB"
      },
      "source": [
        "###Проведение теста Манна — Уитни (U-критерий Манна — Уитни)"
      ]
    },
    {
      "cell_type": "code",
      "metadata": {
        "colab": {
          "base_uri": "https://localhost:8080/"
        },
        "id": "YnGh-cM2TLCD",
        "outputId": "6e6f341e-45df-4a0f-8d69-417256143b82"
      },
      "source": [
        "result = mannwhitneyu(df_c['distance_km'], df_e['distance_km'], alternative='greater')\n",
        "print('p-value: %.5f' % result.pvalue)    #до 8 знака после запятой\n",
        "\n",
        "if (result.pvalue < alpha):\n",
        "    print('Отвергаем нулевую гипотезу')\n",
        "else:\n",
        "    print('Не отвергаем нулевую гипотезу')"
      ],
      "execution_count": 17,
      "outputs": [
        {
          "output_type": "stream",
          "name": "stdout",
          "text": [
            "p-value: 0.00064\n",
            "Отвергаем нулевую гипотезу\n"
          ]
        }
      ]
    },
    {
      "cell_type": "markdown",
      "source": [
        "Средняя дистанция поездок класса \"Комфорт\" статистически значимо больше средней дистанции поездок класса \"Эконом\"."
      ],
      "metadata": {
        "id": "c-8T6B4wWCSp"
      }
    },
    {
      "cell_type": "markdown",
      "source": [
        "#Вывод"
      ],
      "metadata": {
        "id": "RZTJG95hTaU9"
      }
    },
    {
      "cell_type": "markdown",
      "source": [
        "Проведя предварительную обработку данных и отобрав только заказы в классах \"Комфорт\" и \"Эконом\" получили два набора данных для исследования.\n",
        "\n",
        "Нашли основные статистические параметры распределения и визуализировали их для предварительного анализа. На его основе выбрали методы проверки заданной гипотезы.\n",
        "\n",
        "Для класса \"Комфорт\":\n",
        "- count =   243.000000\n",
        "- mean  =   29.931387\n",
        "- std   =  17.881000\n",
        "- min   =  0.291967\n",
        "- 25%   =    16.409954\n",
        "- 50%   =    28.673373\n",
        "- 75%   =    42.388276\n",
        "- max   =    81.507022\n",
        "\n",
        "Для класса \"Эконом\":\n",
        "- count =   211.000000\n",
        "- mean  =    25.338592\n",
        "- std   =    15.787966\n",
        "- min   =     0.098457\n",
        "- 25%   =    12.377581\n",
        "- 50%   =    23.335783\n",
        "- 75%   =    36.048700\n",
        "- max   =    66.617846\n",
        "\n",
        "![image.png](data:image/png;base64,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)\n",
        "\n",
        "![image.png](data:image/png;base64,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)\n",
        "\n",
        "Проведя статистический анализ, уверенно  подтвердили гипотезу о превышении дистанции поездок класса \"Комфорт\" над классом \"Эконом\" 2 методами (Стьюдента и Манна-Уитни)"
      ],
      "metadata": {
        "id": "76_wwdriTZ1O"
      }
    }
  ]
}