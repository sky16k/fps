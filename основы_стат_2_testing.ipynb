{
  "nbformat": 4,
  "nbformat_minor": 0,
  "metadata": {
    "colab": {
      "name": "основы стат_2_testing",
      "provenance": [],
      "collapsed_sections": [],
      "include_colab_link": true
    },
    "kernelspec": {
      "name": "python3",
      "display_name": "Python 3"
    },
    "language_info": {
      "name": "python"
    }
  },
  "cells": [
    {
      "cell_type": "markdown",
      "metadata": {
        "id": "view-in-github",
        "colab_type": "text"
      },
      "source": [
        "<a href=\"https://colab.research.google.com/github/sky16k/fps-3/blob/main/%D0%BE%D1%81%D0%BD%D0%BE%D0%B2%D1%8B_%D1%81%D1%82%D0%B0%D1%82_2_testing.ipynb\" target=\"_parent\"><img src=\"https://colab.research.google.com/assets/colab-badge.svg\" alt=\"Open In Colab\"/></a>"
      ]
    },
    {
      "cell_type": "markdown",
      "metadata": {
        "id": "9AShdzdOAiaB"
      },
      "source": [
        "Подключение библиотек"
      ]
    },
    {
      "cell_type": "code",
      "metadata": {
        "id": "AuT4rU9X_CSA"
      },
      "source": [
        "import pandas as pd\n",
        "import seaborn as sns   #работа с красивыми графиками\n",
        "import matplotlib.pyplot as plt   #работа с графиками"
      ],
      "execution_count": 1,
      "outputs": []
    },
    {
      "cell_type": "markdown",
      "metadata": {
        "id": "8-ktQTOHAkhA"
      },
      "source": [
        "Загрузка и просмотр данных"
      ]
    },
    {
      "cell_type": "code",
      "metadata": {
        "id": "jtX3j-WNAXxj",
        "colab": {
          "base_uri": "https://localhost:8080/",
          "height": 288
        },
        "outputId": "66929351-3f37-4ef1-b711-efd4841ca659"
      },
      "source": [
        "df = pd.read_excel('FPS_lecture_df_0_height-weignt.xlsx')\n",
        "df.head()"
      ],
      "execution_count": 2,
      "outputs": [
        {
          "output_type": "execute_result",
          "data": {
            "text/plain": [
              "        ID  Gender      Height     Weight  Unnamed: 4 Unnamed: 5  Unnamed: 6  \\\n",
              "0  10001.0    Male  174.782639  78.652188         NaN     weight   62.274369   \n",
              "1  10002.0  Female  165.183571  74.332607         NaN     weight   62.412436   \n",
              "2  10003.0    Male  181.542046  81.693920         NaN        NaN         NaN   \n",
              "3  10004.0  Female  167.845912  75.530661         NaN        NaN         NaN   \n",
              "4  10005.0  Female  160.475255  72.213865         NaN        NaN         NaN   \n",
              "\n",
              "   Unnamed: 7  Unnamed: 8  Unnamed: 9  \n",
              "0   72.453854   79.148132   87.877724  \n",
              "1   72.453854   79.148132   87.877724  \n",
              "2         NaN         NaN         NaN  \n",
              "3         NaN         NaN         NaN  \n",
              "4         NaN         NaN         NaN  "
            ],
            "text/html": [
              "\n",
              "  <div id=\"df-1dcaedd8-604a-49a7-9aae-28a0155f1c26\">\n",
              "    <div class=\"colab-df-container\">\n",
              "      <div>\n",
              "<style scoped>\n",
              "    .dataframe tbody tr th:only-of-type {\n",
              "        vertical-align: middle;\n",
              "    }\n",
              "\n",
              "    .dataframe tbody tr th {\n",
              "        vertical-align: top;\n",
              "    }\n",
              "\n",
              "    .dataframe thead th {\n",
              "        text-align: right;\n",
              "    }\n",
              "</style>\n",
              "<table border=\"1\" class=\"dataframe\">\n",
              "  <thead>\n",
              "    <tr style=\"text-align: right;\">\n",
              "      <th></th>\n",
              "      <th>ID</th>\n",
              "      <th>Gender</th>\n",
              "      <th>Height</th>\n",
              "      <th>Weight</th>\n",
              "      <th>Unnamed: 4</th>\n",
              "      <th>Unnamed: 5</th>\n",
              "      <th>Unnamed: 6</th>\n",
              "      <th>Unnamed: 7</th>\n",
              "      <th>Unnamed: 8</th>\n",
              "      <th>Unnamed: 9</th>\n",
              "    </tr>\n",
              "  </thead>\n",
              "  <tbody>\n",
              "    <tr>\n",
              "      <th>0</th>\n",
              "      <td>10001.0</td>\n",
              "      <td>Male</td>\n",
              "      <td>174.782639</td>\n",
              "      <td>78.652188</td>\n",
              "      <td>NaN</td>\n",
              "      <td>weight</td>\n",
              "      <td>62.274369</td>\n",
              "      <td>72.453854</td>\n",
              "      <td>79.148132</td>\n",
              "      <td>87.877724</td>\n",
              "    </tr>\n",
              "    <tr>\n",
              "      <th>1</th>\n",
              "      <td>10002.0</td>\n",
              "      <td>Female</td>\n",
              "      <td>165.183571</td>\n",
              "      <td>74.332607</td>\n",
              "      <td>NaN</td>\n",
              "      <td>weight</td>\n",
              "      <td>62.412436</td>\n",
              "      <td>72.453854</td>\n",
              "      <td>79.148132</td>\n",
              "      <td>87.877724</td>\n",
              "    </tr>\n",
              "    <tr>\n",
              "      <th>2</th>\n",
              "      <td>10003.0</td>\n",
              "      <td>Male</td>\n",
              "      <td>181.542046</td>\n",
              "      <td>81.693920</td>\n",
              "      <td>NaN</td>\n",
              "      <td>NaN</td>\n",
              "      <td>NaN</td>\n",
              "      <td>NaN</td>\n",
              "      <td>NaN</td>\n",
              "      <td>NaN</td>\n",
              "    </tr>\n",
              "    <tr>\n",
              "      <th>3</th>\n",
              "      <td>10004.0</td>\n",
              "      <td>Female</td>\n",
              "      <td>167.845912</td>\n",
              "      <td>75.530661</td>\n",
              "      <td>NaN</td>\n",
              "      <td>NaN</td>\n",
              "      <td>NaN</td>\n",
              "      <td>NaN</td>\n",
              "      <td>NaN</td>\n",
              "      <td>NaN</td>\n",
              "    </tr>\n",
              "    <tr>\n",
              "      <th>4</th>\n",
              "      <td>10005.0</td>\n",
              "      <td>Female</td>\n",
              "      <td>160.475255</td>\n",
              "      <td>72.213865</td>\n",
              "      <td>NaN</td>\n",
              "      <td>NaN</td>\n",
              "      <td>NaN</td>\n",
              "      <td>NaN</td>\n",
              "      <td>NaN</td>\n",
              "      <td>NaN</td>\n",
              "    </tr>\n",
              "  </tbody>\n",
              "</table>\n",
              "</div>\n",
              "      <button class=\"colab-df-convert\" onclick=\"convertToInteractive('df-1dcaedd8-604a-49a7-9aae-28a0155f1c26')\"\n",
              "              title=\"Convert this dataframe to an interactive table.\"\n",
              "              style=\"display:none;\">\n",
              "        \n",
              "  <svg xmlns=\"http://www.w3.org/2000/svg\" height=\"24px\"viewBox=\"0 0 24 24\"\n",
              "       width=\"24px\">\n",
              "    <path d=\"M0 0h24v24H0V0z\" fill=\"none\"/>\n",
              "    <path d=\"M18.56 5.44l.94 2.06.94-2.06 2.06-.94-2.06-.94-.94-2.06-.94 2.06-2.06.94zm-11 1L8.5 8.5l.94-2.06 2.06-.94-2.06-.94L8.5 2.5l-.94 2.06-2.06.94zm10 10l.94 2.06.94-2.06 2.06-.94-2.06-.94-.94-2.06-.94 2.06-2.06.94z\"/><path d=\"M17.41 7.96l-1.37-1.37c-.4-.4-.92-.59-1.43-.59-.52 0-1.04.2-1.43.59L10.3 9.45l-7.72 7.72c-.78.78-.78 2.05 0 2.83L4 21.41c.39.39.9.59 1.41.59.51 0 1.02-.2 1.41-.59l7.78-7.78 2.81-2.81c.8-.78.8-2.07 0-2.86zM5.41 20L4 18.59l7.72-7.72 1.47 1.35L5.41 20z\"/>\n",
              "  </svg>\n",
              "      </button>\n",
              "      \n",
              "  <style>\n",
              "    .colab-df-container {\n",
              "      display:flex;\n",
              "      flex-wrap:wrap;\n",
              "      gap: 12px;\n",
              "    }\n",
              "\n",
              "    .colab-df-convert {\n",
              "      background-color: #E8F0FE;\n",
              "      border: none;\n",
              "      border-radius: 50%;\n",
              "      cursor: pointer;\n",
              "      display: none;\n",
              "      fill: #1967D2;\n",
              "      height: 32px;\n",
              "      padding: 0 0 0 0;\n",
              "      width: 32px;\n",
              "    }\n",
              "\n",
              "    .colab-df-convert:hover {\n",
              "      background-color: #E2EBFA;\n",
              "      box-shadow: 0px 1px 2px rgba(60, 64, 67, 0.3), 0px 1px 3px 1px rgba(60, 64, 67, 0.15);\n",
              "      fill: #174EA6;\n",
              "    }\n",
              "\n",
              "    [theme=dark] .colab-df-convert {\n",
              "      background-color: #3B4455;\n",
              "      fill: #D2E3FC;\n",
              "    }\n",
              "\n",
              "    [theme=dark] .colab-df-convert:hover {\n",
              "      background-color: #434B5C;\n",
              "      box-shadow: 0px 1px 3px 1px rgba(0, 0, 0, 0.15);\n",
              "      filter: drop-shadow(0px 1px 2px rgba(0, 0, 0, 0.3));\n",
              "      fill: #FFFFFF;\n",
              "    }\n",
              "  </style>\n",
              "\n",
              "      <script>\n",
              "        const buttonEl =\n",
              "          document.querySelector('#df-1dcaedd8-604a-49a7-9aae-28a0155f1c26 button.colab-df-convert');\n",
              "        buttonEl.style.display =\n",
              "          google.colab.kernel.accessAllowed ? 'block' : 'none';\n",
              "\n",
              "        async function convertToInteractive(key) {\n",
              "          const element = document.querySelector('#df-1dcaedd8-604a-49a7-9aae-28a0155f1c26');\n",
              "          const dataTable =\n",
              "            await google.colab.kernel.invokeFunction('convertToInteractive',\n",
              "                                                     [key], {});\n",
              "          if (!dataTable) return;\n",
              "\n",
              "          const docLinkHtml = 'Like what you see? Visit the ' +\n",
              "            '<a target=\"_blank\" href=https://colab.research.google.com/notebooks/data_table.ipynb>data table notebook</a>'\n",
              "            + ' to learn more about interactive tables.';\n",
              "          element.innerHTML = '';\n",
              "          dataTable['output_type'] = 'display_data';\n",
              "          await google.colab.output.renderOutput(dataTable, element);\n",
              "          const docLink = document.createElement('div');\n",
              "          docLink.innerHTML = docLinkHtml;\n",
              "          element.appendChild(docLink);\n",
              "        }\n",
              "      </script>\n",
              "    </div>\n",
              "  </div>\n",
              "  "
            ]
          },
          "metadata": {},
          "execution_count": 2
        }
      ]
    },
    {
      "cell_type": "markdown",
      "metadata": {
        "id": "94MH3ZHtAlDY"
      },
      "source": [
        "Формирование выборок по полу"
      ]
    },
    {
      "cell_type": "code",
      "metadata": {
        "colab": {
          "base_uri": "https://localhost:8080/"
        },
        "id": "bjRWKlqvAX0S",
        "outputId": "77a72713-8db2-4739-9363-d48ce398965b"
      },
      "source": [
        "# Формирование выборок\n",
        "df_1 = df[df['Gender'] == 'Male']\n",
        "df_2 = df[df['Gender'] == 'Female']\n",
        "\n",
        "print('Выборки имеют одинаковую длинну: ', len(df_1) == len(df_2))"
      ],
      "execution_count": 3,
      "outputs": [
        {
          "output_type": "stream",
          "name": "stdout",
          "text": [
            "Выборки имеют одинаковую длинну:  True\n"
          ]
        }
      ]
    },
    {
      "cell_type": "markdown",
      "metadata": {
        "id": "QmgdWC1YAlfQ"
      },
      "source": [
        "Визуализация доверительных интервалов"
      ]
    },
    {
      "cell_type": "code",
      "source": [
        "sns.displot(x='Weight', #разложить по значению в колонке 'Weight' \n",
        "            data=df,    #взять данные из df\n",
        "            kde=True,   #добавить линию\n",
        "            hue='Gender', #разделить по значению в колонке 'Gender'\n",
        "            bins=90,    #разделить на 90 'корзин'\n",
        "            aspect=1.5, #вытянуть ширину в 1.5 раза от высоты\n",
        "            facet_kws={ #параметры сетки графиков\n",
        "              'despine':False  #вернуть рамки графиков в сетке\n",
        "              }) #\n",
        "plt.title('Плотность распределения веса от пола') #название всей области графиков\n",
        "#plt.legend(['Male', 'Female']) #подписи данных на графиках\n",
        "plt.show()"
      ],
      "metadata": {
        "id": "2fvS2P50gT27",
        "colab": {
          "base_uri": "https://localhost:8080/",
          "height": 385
        },
        "outputId": "b9706f87-8e43-490f-d65e-31f9deb609dc"
      },
      "execution_count": 20,
      "outputs": [
        {
          "output_type": "display_data",
          "data": {
            "text/plain": [
              "<Figure size 612.125x360 with 1 Axes>"
            ],
            "image/png": "[encoded data removed]"
          },
          "metadata": {
            "needs_background": "light"
          }
        }
      ]
    },
    {
      "cell_type": "code",
      "metadata": {
        "id": "L4Lc6t3ZAX2N"
      },
      "source": [
        "#sns.distplot(df_1['Weight'],50)\n",
        "#sns.distplot(df_2['Weight'],50)\n",
        "#plt.title('Плотность распределения веса от пола')\n",
        "#plt.legend(['Male', 'Female'])\n",
        "#plt.show()"
      ],
      "execution_count": 19,
      "outputs": []
    },
    {
      "cell_type": "markdown",
      "metadata": {
        "id": "28LTYYSFAmC8"
      },
      "source": [
        "Подключения библиотек статистических критериев и задание уровня значимости"
      ]
    },
    {
      "cell_type": "code",
      "metadata": {
        "id": "lGUeoznwAX4g"
      },
      "source": [
        "from scipy.stats import ttest_ind   #библиотека Т-теста - t-критерий Стьюдента\n",
        "from scipy.stats import mannwhitneyu    #библиотека теста Манна-Уитни\n",
        "\n",
        "alpha = 0.05                          # Уровень значимости"
      ],
      "execution_count": 21,
      "outputs": []
    },
    {
      "cell_type": "markdown",
      "metadata": {
        "id": "m-ITrATkBmI3"
      },
      "source": [
        "Проведение Т-Теста (t-критерий Стьюдента)"
      ]
    },
    {
      "cell_type": "code",
      "metadata": {
        "id": "bsco6WwmAX6J",
        "colab": {
          "base_uri": "https://localhost:8080/"
        },
        "outputId": "0fcd28cb-45d7-4fe0-e1a4-e0e30c9ffaca"
      },
      "source": [
        "result = ttest_ind(df_1['Weight'], df_2['Weight'])\n",
        "print('p-value: %.8f' % result.pvalue)    #до 8 знака после запятой\n",
        "\n",
        "if (result.pvalue < alpha):\n",
        "    print('Отвергаем нулевую гипотезу')\n",
        "else:\n",
        "    print('Не отвергаем нулевую гипотезу')"
      ],
      "execution_count": 22,
      "outputs": [
        {
          "output_type": "stream",
          "name": "stdout",
          "text": [
            "p-value: 0.00000000\n",
            "Отвергаем нулевую гипотезу\n"
          ]
        }
      ]
    },
    {
      "cell_type": "code",
      "metadata": {
        "id": "6mDzKBqaB2au"
      },
      "source": [
        "# Вес мужчин статистически значимо отличатется от женщин"
      ],
      "execution_count": null,
      "outputs": []
    },
    {
      "cell_type": "markdown",
      "metadata": {
        "id": "Y4kEllT2Bu19"
      },
      "source": [
        "Проведение теста Манна — Уитни (U-критерий Манна — Уитни)"
      ]
    },
    {
      "cell_type": "code",
      "metadata": {
        "id": "r9iIw5NmAhz3",
        "colab": {
          "base_uri": "https://localhost:8080/"
        },
        "outputId": "423970b8-83d6-4f18-93e3-4eee32bcad88"
      },
      "source": [
        "result = mannwhitneyu(df_1['Weight'], df_2['Weight'])\n",
        "print('p-value: %.8f' % result.pvalue)    #до 8 знака после запятой\n",
        "\n",
        "if (result.pvalue < alpha):\n",
        "    print('Отвергаем нулевую гипотезу')\n",
        "else:\n",
        "    print('Не отвергаем нулевую гипотезу')"
      ],
      "execution_count": 23,
      "outputs": [
        {
          "output_type": "stream",
          "name": "stdout",
          "text": [
            "p-value: 0.00000000\n",
            "Отвергаем нулевую гипотезу\n"
          ]
        }
      ]
    },
    {
      "cell_type": "code",
      "metadata": {
        "id": "z3Jj-FFSB6Bd"
      },
      "source": [
        "# Вес мужчин статистически значимо отличатется от женщин"
      ],
      "execution_count": 24,
      "outputs": []
    }
  ]
}