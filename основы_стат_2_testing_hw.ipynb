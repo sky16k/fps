{
  "nbformat": 4,
  "nbformat_minor": 0,
  "metadata": {
    "colab": {
      "name": "основы стат_2_testing_hw",
      "provenance": [],
      "collapsed_sections": [],
      "include_colab_link": true
    },
    "kernelspec": {
      "name": "python3",
      "display_name": "Python 3"
    },
    "language_info": {
      "name": "python"
    }
  },
  "cells": [
    {
      "cell_type": "markdown",
      "metadata": {
        "id": "view-in-github",
        "colab_type": "text"
      },
      "source": [
        "<a href=\"https://colab.research.google.com/github/sky16k/fps-3/blob/main/%D0%BE%D1%81%D0%BD%D0%BE%D0%B2%D1%8B_%D1%81%D1%82%D0%B0%D1%82_2_testing_hw.ipynb\" target=\"_parent\"><img src=\"https://colab.research.google.com/assets/colab-badge.svg\" alt=\"Open In Colab\"/></a>"
      ]
    },
    {
      "cell_type": "markdown",
      "source": [
        "С помощью статистических критериев сравнить динамику заболеваемости\n",
        "Гипотеза: “Динамика заболеваемости в России отличается от динамики заболеваемости в Соединённых штатах”\n",
        "1. найти статистические критерии для динамических рядов\n",
        "2. вычислить эти критерии\n",
        "3. сравнить (равны/не равны)\n",
        "4. сделать выводы и отчёт"
      ],
      "metadata": {
        "id": "d6QvmxBsqVs4"
      }
    },
    {
      "cell_type": "markdown",
      "source": [
        "1 . ряды 'confirmed' и 'deaths' в отдельных таблицах по странам :\n",
        "  - моментные, \n",
        "  - равномерные, \n",
        "  - изолированные, \n",
        "  - абсолютных величин.\n",
        "\n",
        "n - кол-во измерений (каждый день по измерению)\n",
        "n = len(df1) \n",
        "\n",
        "t - длительность опыта (дней) \n",
        "t = n-1\n",
        "\n",
        "  показатели изменения уровней :\n",
        "  - абсолютное изменение (абсолютный прирост): dy[i] = y[i] - y[i-1]\n",
        "  - коэффициент роста (индекс динамики): Ky[i]=y[i]/y[i-1]\n",
        "  - темп прироста: Ty[i] = Ky[i]*100 - 100%\n",
        "\n",
        "  Средние показатели динамических рядов: \n",
        "  - средний хронологический уровень: y_mean = (sum(y)-0.5y[1]-0.5y[n])/t\n",
        "  - средний абсолютный прирост: dy_mean = sum(dy)/t\n",
        "  - средний коэффициент роста: Ky_mean = (y[n]/y[1])**(1/t)\n",
        "  - средний темп прироста: Ty_mean = Ky_mean*100-100%"
      ],
      "metadata": {
        "id": "ODfdrh24_TH_"
      }
    },
    {
      "cell_type": "markdown",
      "metadata": {
        "id": "9AShdzdOAiaB"
      },
      "source": [
        "Подключение библиотек"
      ]
    },
    {
      "cell_type": "code",
      "metadata": {
        "id": "AuT4rU9X_CSA"
      },
      "source": [
        "import copy\n",
        "import pandas as pd\n",
        "import seaborn as sns   #работа с красивыми графиками\n",
        "import matplotlib.pyplot as plt   #работа с графиками"
      ],
      "execution_count": 1,
      "outputs": []
    },
    {
      "cell_type": "markdown",
      "metadata": {
        "id": "8-ktQTOHAkhA"
      },
      "source": [
        "Загрузка и просмотр данных"
      ]
    },
    {
      "cell_type": "code",
      "metadata": {
        "id": "jtX3j-WNAXxj",
        "colab": {
          "base_uri": "https://localhost:8080/",
          "height": 424
        },
        "outputId": "0cfc576f-1865-4647-ba2b-53d84f2fabd9"
      },
      "source": [
        "df = pd.read_excel('FPS_hw_2_df_2_COVID-19.xlsx')#,index_col='date') #импорт с указанным индексом\n",
        "df#.head()\n",
        "#len(df)"
      ],
      "execution_count": 2,
      "outputs": [
        {
          "output_type": "execute_result",
          "data": {
            "text/plain": [
              "           date country  confirmed  deaths\n",
              "0    2020-01-22  Russia          0       0\n",
              "1    2020-01-22      US          1       0\n",
              "2    2020-01-23  Russia          0       0\n",
              "3    2020-01-23      US          1       0\n",
              "4    2020-01-24  Russia          0       0\n",
              "...         ...     ...        ...     ...\n",
              "1111 2021-07-30      US   34945468  613013\n",
              "1112 2021-07-31  Russia    6185249  155952\n",
              "1113 2021-07-31      US   34978276  613157\n",
              "1114 2021-08-01  Russia    6207513  156726\n",
              "1115 2021-08-01      US   35003417  613228\n",
              "\n",
              "[1116 rows x 4 columns]"
            ],
            "text/html": [
              "\n",
              "  <div id=\"df-c136b853-5ba5-4cb1-9255-7851a2c48c7b\">\n",
              "    <div class=\"colab-df-container\">\n",
              "      <div>\n",
              "<style scoped>\n",
              "    .dataframe tbody tr th:only-of-type {\n",
              "        vertical-align: middle;\n",
              "    }\n",
              "\n",
              "    .dataframe tbody tr th {\n",
              "        vertical-align: top;\n",
              "    }\n",
              "\n",
              "    .dataframe thead th {\n",
              "        text-align: right;\n",
              "    }\n",
              "</style>\n",
              "<table border=\"1\" class=\"dataframe\">\n",
              "  <thead>\n",
              "    <tr style=\"text-align: right;\">\n",
              "      <th></th>\n",
              "      <th>date</th>\n",
              "      <th>country</th>\n",
              "      <th>confirmed</th>\n",
              "      <th>deaths</th>\n",
              "    </tr>\n",
              "  </thead>\n",
              "  <tbody>\n",
              "    <tr>\n",
              "      <th>0</th>\n",
              "      <td>2020-01-22</td>\n",
              "      <td>Russia</td>\n",
              "      <td>0</td>\n",
              "      <td>0</td>\n",
              "    </tr>\n",
              "    <tr>\n",
              "      <th>1</th>\n",
              "      <td>2020-01-22</td>\n",
              "      <td>US</td>\n",
              "      <td>1</td>\n",
              "      <td>0</td>\n",
              "    </tr>\n",
              "    <tr>\n",
              "      <th>2</th>\n",
              "      <td>2020-01-23</td>\n",
              "      <td>Russia</td>\n",
              "      <td>0</td>\n",
              "      <td>0</td>\n",
              "    </tr>\n",
              "    <tr>\n",
              "      <th>3</th>\n",
              "      <td>2020-01-23</td>\n",
              "      <td>US</td>\n",
              "      <td>1</td>\n",
              "      <td>0</td>\n",
              "    </tr>\n",
              "    <tr>\n",
              "      <th>4</th>\n",
              "      <td>2020-01-24</td>\n",
              "      <td>Russia</td>\n",
              "      <td>0</td>\n",
              "      <td>0</td>\n",
              "    </tr>\n",
              "    <tr>\n",
              "      <th>...</th>\n",
              "      <td>...</td>\n",
              "      <td>...</td>\n",
              "      <td>...</td>\n",
              "      <td>...</td>\n",
              "    </tr>\n",
              "    <tr>\n",
              "      <th>1111</th>\n",
              "      <td>2021-07-30</td>\n",
              "      <td>US</td>\n",
              "      <td>34945468</td>\n",
              "      <td>613013</td>\n",
              "    </tr>\n",
              "    <tr>\n",
              "      <th>1112</th>\n",
              "      <td>2021-07-31</td>\n",
              "      <td>Russia</td>\n",
              "      <td>6185249</td>\n",
              "      <td>155952</td>\n",
              "    </tr>\n",
              "    <tr>\n",
              "      <th>1113</th>\n",
              "      <td>2021-07-31</td>\n",
              "      <td>US</td>\n",
              "      <td>34978276</td>\n",
              "      <td>613157</td>\n",
              "    </tr>\n",
              "    <tr>\n",
              "      <th>1114</th>\n",
              "      <td>2021-08-01</td>\n",
              "      <td>Russia</td>\n",
              "      <td>6207513</td>\n",
              "      <td>156726</td>\n",
              "    </tr>\n",
              "    <tr>\n",
              "      <th>1115</th>\n",
              "      <td>2021-08-01</td>\n",
              "      <td>US</td>\n",
              "      <td>35003417</td>\n",
              "      <td>613228</td>\n",
              "    </tr>\n",
              "  </tbody>\n",
              "</table>\n",
              "<p>1116 rows × 4 columns</p>\n",
              "</div>\n",
              "      <button class=\"colab-df-convert\" onclick=\"convertToInteractive('df-c136b853-5ba5-4cb1-9255-7851a2c48c7b')\"\n",
              "              title=\"Convert this dataframe to an interactive table.\"\n",
              "              style=\"display:none;\">\n",
              "        \n",
              "  <svg xmlns=\"http://www.w3.org/2000/svg\" height=\"24px\"viewBox=\"0 0 24 24\"\n",
              "       width=\"24px\">\n",
              "    <path d=\"M0 0h24v24H0V0z\" fill=\"none\"/>\n",
              "    <path d=\"M18.56 5.44l.94 2.06.94-2.06 2.06-.94-2.06-.94-.94-2.06-.94 2.06-2.06.94zm-11 1L8.5 8.5l.94-2.06 2.06-.94-2.06-.94L8.5 2.5l-.94 2.06-2.06.94zm10 10l.94 2.06.94-2.06 2.06-.94-2.06-.94-.94-2.06-.94 2.06-2.06.94z\"/><path d=\"M17.41 7.96l-1.37-1.37c-.4-.4-.92-.59-1.43-.59-.52 0-1.04.2-1.43.59L10.3 9.45l-7.72 7.72c-.78.78-.78 2.05 0 2.83L4 21.41c.39.39.9.59 1.41.59.51 0 1.02-.2 1.41-.59l7.78-7.78 2.81-2.81c.8-.78.8-2.07 0-2.86zM5.41 20L4 18.59l7.72-7.72 1.47 1.35L5.41 20z\"/>\n",
              "  </svg>\n",
              "      </button>\n",
              "      \n",
              "  <style>\n",
              "    .colab-df-container {\n",
              "      display:flex;\n",
              "      flex-wrap:wrap;\n",
              "      gap: 12px;\n",
              "    }\n",
              "\n",
              "    .colab-df-convert {\n",
              "      background-color: #E8F0FE;\n",
              "      border: none;\n",
              "      border-radius: 50%;\n",
              "      cursor: pointer;\n",
              "      display: none;\n",
              "      fill: #1967D2;\n",
              "      height: 32px;\n",
              "      padding: 0 0 0 0;\n",
              "      width: 32px;\n",
              "    }\n",
              "\n",
              "    .colab-df-convert:hover {\n",
              "      background-color: #E2EBFA;\n",
              "      box-shadow: 0px 1px 2px rgba(60, 64, 67, 0.3), 0px 1px 3px 1px rgba(60, 64, 67, 0.15);\n",
              "      fill: #174EA6;\n",
              "    }\n",
              "\n",
              "    [theme=dark] .colab-df-convert {\n",
              "      background-color: #3B4455;\n",
              "      fill: #D2E3FC;\n",
              "    }\n",
              "\n",
              "    [theme=dark] .colab-df-convert:hover {\n",
              "      background-color: #434B5C;\n",
              "      box-shadow: 0px 1px 3px 1px rgba(0, 0, 0, 0.15);\n",
              "      filter: drop-shadow(0px 1px 2px rgba(0, 0, 0, 0.3));\n",
              "      fill: #FFFFFF;\n",
              "    }\n",
              "  </style>\n",
              "\n",
              "      <script>\n",
              "        const buttonEl =\n",
              "          document.querySelector('#df-c136b853-5ba5-4cb1-9255-7851a2c48c7b button.colab-df-convert');\n",
              "        buttonEl.style.display =\n",
              "          google.colab.kernel.accessAllowed ? 'block' : 'none';\n",
              "\n",
              "        async function convertToInteractive(key) {\n",
              "          const element = document.querySelector('#df-c136b853-5ba5-4cb1-9255-7851a2c48c7b');\n",
              "          const dataTable =\n",
              "            await google.colab.kernel.invokeFunction('convertToInteractive',\n",
              "                                                     [key], {});\n",
              "          if (!dataTable) return;\n",
              "\n",
              "          const docLinkHtml = 'Like what you see? Visit the ' +\n",
              "            '<a target=\"_blank\" href=https://colab.research.google.com/notebooks/data_table.ipynb>data table notebook</a>'\n",
              "            + ' to learn more about interactive tables.';\n",
              "          element.innerHTML = '';\n",
              "          dataTable['output_type'] = 'display_data';\n",
              "          await google.colab.output.renderOutput(dataTable, element);\n",
              "          const docLink = document.createElement('div');\n",
              "          docLink.innerHTML = docLinkHtml;\n",
              "          element.appendChild(docLink);\n",
              "        }\n",
              "      </script>\n",
              "    </div>\n",
              "  </div>\n",
              "  "
            ]
          },
          "metadata": {},
          "execution_count": 2
        }
      ]
    },
    {
      "cell_type": "markdown",
      "metadata": {
        "id": "94MH3ZHtAlDY"
      },
      "source": [
        "Формирование выборок по странам"
      ]
    },
    {
      "cell_type": "code",
      "source": [
        "### Формирование выборок\n",
        "df1_label = 'Russia'\n",
        "df2_label = 'US'\n",
        "\n",
        "df1 = copy.deepcopy(df[df['country'] == df1_label].reset_index(drop=True))\n",
        "df2 = copy.deepcopy(df[df['country'] == df2_label].reset_index(drop=True))\n",
        "\n",
        "print('количество наблюдений',df1_label,':', len(df1) )\n",
        "print('количество наблюдений',df2_label,':', len(df2) )\n",
        "print('Выборки имеют одинаковую длину: ', len(df1) == len(df2))\n",
        "\n",
        "t = len(df1)-1\n",
        "\n",
        "print('Длительность опыта составила',t,'дней')"
      ],
      "metadata": {
        "id": "bjRWKlqvAX0S",
        "colab": {
          "base_uri": "https://localhost:8080/"
        },
        "outputId": "8a7719be-15a1-40c0-e414-35e042ce5c16"
      },
      "execution_count": 3,
      "outputs": [
        {
          "output_type": "stream",
          "name": "stdout",
          "text": [
            "количество наблюдений Russia : 558\n",
            "количество наблюдений US : 558\n",
            "Выборки имеют одинаковую длину:  True\n",
            "Длительность опыта составила 557 дней\n"
          ]
        }
      ]
    },
    {
      "cell_type": "code",
      "source": [
        "#df1['ind'] = range(1, len(df1)+1)\n",
        "#df1.reindex(list(range(1,len(df1)+1)))\n",
        "df1, df2"
      ],
      "metadata": {
        "colab": {
          "base_uri": "https://localhost:8080/"
        },
        "id": "l_4m6vcn6I6q",
        "outputId": "27d3852b-f3ef-4b66-c51f-b2971476b14d"
      },
      "execution_count": 4,
      "outputs": [
        {
          "output_type": "execute_result",
          "data": {
            "text/plain": [
              "(          date country  confirmed  deaths\n",
              " 0   2020-01-22  Russia          0       0\n",
              " 1   2020-01-23  Russia          0       0\n",
              " 2   2020-01-24  Russia          0       0\n",
              " 3   2020-01-25  Russia          0       0\n",
              " 4   2020-01-26  Russia          0       0\n",
              " ..         ...     ...        ...     ...\n",
              " 553 2021-07-28  Russia    6116249  153620\n",
              " 554 2021-07-29  Russia    6138969  154404\n",
              " 555 2021-07-30  Russia    6161985  155180\n",
              " 556 2021-07-31  Russia    6185249  155952\n",
              " 557 2021-08-01  Russia    6207513  156726\n",
              " \n",
              " [558 rows x 4 columns],           date country  confirmed  deaths\n",
              " 0   2020-01-22      US          1       0\n",
              " 1   2020-01-23      US          1       0\n",
              " 2   2020-01-24      US          2       0\n",
              " 3   2020-01-25      US          2       0\n",
              " 4   2020-01-26      US          5       0\n",
              " ..         ...     ...        ...     ...\n",
              " 553 2021-07-28      US   34672690  611803\n",
              " 554 2021-07-29      US   34750860  612124\n",
              " 555 2021-07-30      US   34945468  613013\n",
              " 556 2021-07-31      US   34978276  613157\n",
              " 557 2021-08-01      US   35003417  613228\n",
              " \n",
              " [558 rows x 4 columns])"
            ]
          },
          "metadata": {},
          "execution_count": 4
        }
      ]
    },
    {
      "cell_type": "code",
      "source": [
        "#найти индекс первого значимого элемента\n",
        "def index_1st (val):\n",
        "    for i in list(range(len(val))):\n",
        "        if val[i] != 0:\n",
        "           return i \n",
        "\n",
        "#df1['confirmed']"
      ],
      "metadata": {
        "id": "912Mjm7NVSEv"
      },
      "execution_count": 5,
      "outputs": []
    },
    {
      "cell_type": "code",
      "source": [
        "df1_conf_1st = index_1st(df1['confirmed'])\n",
        "df1_death_1st= index_1st(df1['deaths'])\n",
        "df1_conf_1st, df1_death_1st"
      ],
      "metadata": {
        "colab": {
          "base_uri": "https://localhost:8080/"
        },
        "id": "xh-LJYQGbQu-",
        "outputId": "733ee20f-d7fd-4405-bf3b-29b7234814eb"
      },
      "execution_count": 6,
      "outputs": [
        {
          "output_type": "execute_result",
          "data": {
            "text/plain": [
              "(9, 57)"
            ]
          },
          "metadata": {},
          "execution_count": 6
        }
      ]
    },
    {
      "cell_type": "code",
      "source": [
        "df2_conf_1st = index_1st(df2['confirmed'])\n",
        "df2_death_1st= index_1st(df2['deaths'])\n",
        "df2_conf_1st, df2_death_1st"
      ],
      "metadata": {
        "colab": {
          "base_uri": "https://localhost:8080/"
        },
        "id": "R4Xrc09Ng-x1",
        "outputId": "d077188d-eba9-40f2-f475-1c4480754587"
      },
      "execution_count": 7,
      "outputs": [
        {
          "output_type": "execute_result",
          "data": {
            "text/plain": [
              "(0, 38)"
            ]
          },
          "metadata": {},
          "execution_count": 7
        }
      ]
    },
    {
      "cell_type": "code",
      "source": [
        "df1['dconf']=df1['confirmed']-df1['confirmed'].shift(1)\n",
        "df1['ddeath']=df1['deaths']-df1['deaths'].shift(1)\n",
        "df1['leth'] = df1['ddeath']/df1['dconf']\n",
        "df1"
      ],
      "metadata": {
        "id": "JBBMPEujuypX",
        "colab": {
          "base_uri": "https://localhost:8080/",
          "height": 424
        },
        "outputId": "5dcdc339-a44b-42cc-e793-8c42727810c9"
      },
      "execution_count": 8,
      "outputs": [
        {
          "output_type": "execute_result",
          "data": {
            "text/plain": [
              "          date country  confirmed  deaths    dconf  ddeath      leth\n",
              "0   2020-01-22  Russia          0       0      NaN     NaN       NaN\n",
              "1   2020-01-23  Russia          0       0      0.0     0.0       NaN\n",
              "2   2020-01-24  Russia          0       0      0.0     0.0       NaN\n",
              "3   2020-01-25  Russia          0       0      0.0     0.0       NaN\n",
              "4   2020-01-26  Russia          0       0      0.0     0.0       NaN\n",
              "..         ...     ...        ...     ...      ...     ...       ...\n",
              "553 2021-07-28  Russia    6116249  153620  21870.0   784.0  0.035848\n",
              "554 2021-07-29  Russia    6138969  154404  22720.0   784.0  0.034507\n",
              "555 2021-07-30  Russia    6161985  155180  23016.0   776.0  0.033716\n",
              "556 2021-07-31  Russia    6185249  155952  23264.0   772.0  0.033184\n",
              "557 2021-08-01  Russia    6207513  156726  22264.0   774.0  0.034765\n",
              "\n",
              "[558 rows x 7 columns]"
            ],
            "text/html": [
              "\n",
              "  <div id=\"df-a23c7144-d8f8-4885-b2e0-5e277bdc8fbf\">\n",
              "    <div class=\"colab-df-container\">\n",
              "      <div>\n",
              "<style scoped>\n",
              "    .dataframe tbody tr th:only-of-type {\n",
              "        vertical-align: middle;\n",
              "    }\n",
              "\n",
              "    .dataframe tbody tr th {\n",
              "        vertical-align: top;\n",
              "    }\n",
              "\n",
              "    .dataframe thead th {\n",
              "        text-align: right;\n",
              "    }\n",
              "</style>\n",
              "<table border=\"1\" class=\"dataframe\">\n",
              "  <thead>\n",
              "    <tr style=\"text-align: right;\">\n",
              "      <th></th>\n",
              "      <th>date</th>\n",
              "      <th>country</th>\n",
              "      <th>confirmed</th>\n",
              "      <th>deaths</th>\n",
              "      <th>dconf</th>\n",
              "      <th>ddeath</th>\n",
              "      <th>leth</th>\n",
              "    </tr>\n",
              "  </thead>\n",
              "  <tbody>\n",
              "    <tr>\n",
              "      <th>0</th>\n",
              "      <td>2020-01-22</td>\n",
              "      <td>Russia</td>\n",
              "      <td>0</td>\n",
              "      <td>0</td>\n",
              "      <td>NaN</td>\n",
              "      <td>NaN</td>\n",
              "      <td>NaN</td>\n",
              "    </tr>\n",
              "    <tr>\n",
              "      <th>1</th>\n",
              "      <td>2020-01-23</td>\n",
              "      <td>Russia</td>\n",
              "      <td>0</td>\n",
              "      <td>0</td>\n",
              "      <td>0.0</td>\n",
              "      <td>0.0</td>\n",
              "      <td>NaN</td>\n",
              "    </tr>\n",
              "    <tr>\n",
              "      <th>2</th>\n",
              "      <td>2020-01-24</td>\n",
              "      <td>Russia</td>\n",
              "      <td>0</td>\n",
              "      <td>0</td>\n",
              "      <td>0.0</td>\n",
              "      <td>0.0</td>\n",
              "      <td>NaN</td>\n",
              "    </tr>\n",
              "    <tr>\n",
              "      <th>3</th>\n",
              "      <td>2020-01-25</td>\n",
              "      <td>Russia</td>\n",
              "      <td>0</td>\n",
              "      <td>0</td>\n",
              "      <td>0.0</td>\n",
              "      <td>0.0</td>\n",
              "      <td>NaN</td>\n",
              "    </tr>\n",
              "    <tr>\n",
              "      <th>4</th>\n",
              "      <td>2020-01-26</td>\n",
              "      <td>Russia</td>\n",
              "      <td>0</td>\n",
              "      <td>0</td>\n",
              "      <td>0.0</td>\n",
              "      <td>0.0</td>\n",
              "      <td>NaN</td>\n",
              "    </tr>\n",
              "    <tr>\n",
              "      <th>...</th>\n",
              "      <td>...</td>\n",
              "      <td>...</td>\n",
              "      <td>...</td>\n",
              "      <td>...</td>\n",
              "      <td>...</td>\n",
              "      <td>...</td>\n",
              "      <td>...</td>\n",
              "    </tr>\n",
              "    <tr>\n",
              "      <th>553</th>\n",
              "      <td>2021-07-28</td>\n",
              "      <td>Russia</td>\n",
              "      <td>6116249</td>\n",
              "      <td>153620</td>\n",
              "      <td>21870.0</td>\n",
              "      <td>784.0</td>\n",
              "      <td>0.035848</td>\n",
              "    </tr>\n",
              "    <tr>\n",
              "      <th>554</th>\n",
              "      <td>2021-07-29</td>\n",
              "      <td>Russia</td>\n",
              "      <td>6138969</td>\n",
              "      <td>154404</td>\n",
              "      <td>22720.0</td>\n",
              "      <td>784.0</td>\n",
              "      <td>0.034507</td>\n",
              "    </tr>\n",
              "    <tr>\n",
              "      <th>555</th>\n",
              "      <td>2021-07-30</td>\n",
              "      <td>Russia</td>\n",
              "      <td>6161985</td>\n",
              "      <td>155180</td>\n",
              "      <td>23016.0</td>\n",
              "      <td>776.0</td>\n",
              "      <td>0.033716</td>\n",
              "    </tr>\n",
              "    <tr>\n",
              "      <th>556</th>\n",
              "      <td>2021-07-31</td>\n",
              "      <td>Russia</td>\n",
              "      <td>6185249</td>\n",
              "      <td>155952</td>\n",
              "      <td>23264.0</td>\n",
              "      <td>772.0</td>\n",
              "      <td>0.033184</td>\n",
              "    </tr>\n",
              "    <tr>\n",
              "      <th>557</th>\n",
              "      <td>2021-08-01</td>\n",
              "      <td>Russia</td>\n",
              "      <td>6207513</td>\n",
              "      <td>156726</td>\n",
              "      <td>22264.0</td>\n",
              "      <td>774.0</td>\n",
              "      <td>0.034765</td>\n",
              "    </tr>\n",
              "  </tbody>\n",
              "</table>\n",
              "<p>558 rows × 7 columns</p>\n",
              "</div>\n",
              "      <button class=\"colab-df-convert\" onclick=\"convertToInteractive('df-a23c7144-d8f8-4885-b2e0-5e277bdc8fbf')\"\n",
              "              title=\"Convert this dataframe to an interactive table.\"\n",
              "              style=\"display:none;\">\n",
              "        \n",
              "  <svg xmlns=\"http://www.w3.org/2000/svg\" height=\"24px\"viewBox=\"0 0 24 24\"\n",
              "       width=\"24px\">\n",
              "    <path d=\"M0 0h24v24H0V0z\" fill=\"none\"/>\n",
              "    <path d=\"M18.56 5.44l.94 2.06.94-2.06 2.06-.94-2.06-.94-.94-2.06-.94 2.06-2.06.94zm-11 1L8.5 8.5l.94-2.06 2.06-.94-2.06-.94L8.5 2.5l-.94 2.06-2.06.94zm10 10l.94 2.06.94-2.06 2.06-.94-2.06-.94-.94-2.06-.94 2.06-2.06.94z\"/><path d=\"M17.41 7.96l-1.37-1.37c-.4-.4-.92-.59-1.43-.59-.52 0-1.04.2-1.43.59L10.3 9.45l-7.72 7.72c-.78.78-.78 2.05 0 2.83L4 21.41c.39.39.9.59 1.41.59.51 0 1.02-.2 1.41-.59l7.78-7.78 2.81-2.81c.8-.78.8-2.07 0-2.86zM5.41 20L4 18.59l7.72-7.72 1.47 1.35L5.41 20z\"/>\n",
              "  </svg>\n",
              "      </button>\n",
              "      \n",
              "  <style>\n",
              "    .colab-df-container {\n",
              "      display:flex;\n",
              "      flex-wrap:wrap;\n",
              "      gap: 12px;\n",
              "    }\n",
              "\n",
              "    .colab-df-convert {\n",
              "      background-color: #E8F0FE;\n",
              "      border: none;\n",
              "      border-radius: 50%;\n",
              "      cursor: pointer;\n",
              "      display: none;\n",
              "      fill: #1967D2;\n",
              "      height: 32px;\n",
              "      padding: 0 0 0 0;\n",
              "      width: 32px;\n",
              "    }\n",
              "\n",
              "    .colab-df-convert:hover {\n",
              "      background-color: #E2EBFA;\n",
              "      box-shadow: 0px 1px 2px rgba(60, 64, 67, 0.3), 0px 1px 3px 1px rgba(60, 64, 67, 0.15);\n",
              "      fill: #174EA6;\n",
              "    }\n",
              "\n",
              "    [theme=dark] .colab-df-convert {\n",
              "      background-color: #3B4455;\n",
              "      fill: #D2E3FC;\n",
              "    }\n",
              "\n",
              "    [theme=dark] .colab-df-convert:hover {\n",
              "      background-color: #434B5C;\n",
              "      box-shadow: 0px 1px 3px 1px rgba(0, 0, 0, 0.15);\n",
              "      filter: drop-shadow(0px 1px 2px rgba(0, 0, 0, 0.3));\n",
              "      fill: #FFFFFF;\n",
              "    }\n",
              "  </style>\n",
              "\n",
              "      <script>\n",
              "        const buttonEl =\n",
              "          document.querySelector('#df-a23c7144-d8f8-4885-b2e0-5e277bdc8fbf button.colab-df-convert');\n",
              "        buttonEl.style.display =\n",
              "          google.colab.kernel.accessAllowed ? 'block' : 'none';\n",
              "\n",
              "        async function convertToInteractive(key) {\n",
              "          const element = document.querySelector('#df-a23c7144-d8f8-4885-b2e0-5e277bdc8fbf');\n",
              "          const dataTable =\n",
              "            await google.colab.kernel.invokeFunction('convertToInteractive',\n",
              "                                                     [key], {});\n",
              "          if (!dataTable) return;\n",
              "\n",
              "          const docLinkHtml = 'Like what you see? Visit the ' +\n",
              "            '<a target=\"_blank\" href=https://colab.research.google.com/notebooks/data_table.ipynb>data table notebook</a>'\n",
              "            + ' to learn more about interactive tables.';\n",
              "          element.innerHTML = '';\n",
              "          dataTable['output_type'] = 'display_data';\n",
              "          await google.colab.output.renderOutput(dataTable, element);\n",
              "          const docLink = document.createElement('div');\n",
              "          docLink.innerHTML = docLinkHtml;\n",
              "          element.appendChild(docLink);\n",
              "        }\n",
              "      </script>\n",
              "    </div>\n",
              "  </div>\n",
              "  "
            ]
          },
          "metadata": {},
          "execution_count": 8
        }
      ]
    },
    {
      "cell_type": "code",
      "source": [
        "df2['dconf']=df2['confirmed']-df2['confirmed'].shift(1)\n",
        "df2['ddeath']=df2['deaths']-df2['deaths'].shift(1)\n",
        "df2['leth'] = df2['ddeath']/df2['dconf']\n",
        "df2"
      ],
      "metadata": {
        "id": "1PJM_V0iw27p",
        "colab": {
          "base_uri": "https://localhost:8080/",
          "height": 424
        },
        "outputId": "42696ad1-ccce-480c-a203-90aa5b591578"
      },
      "execution_count": 9,
      "outputs": [
        {
          "output_type": "execute_result",
          "data": {
            "text/plain": [
              "          date country  confirmed  deaths     dconf  ddeath      leth\n",
              "0   2020-01-22      US          1       0       NaN     NaN       NaN\n",
              "1   2020-01-23      US          1       0       0.0     0.0       NaN\n",
              "2   2020-01-24      US          2       0       1.0     0.0  0.000000\n",
              "3   2020-01-25      US          2       0       0.0     0.0       NaN\n",
              "4   2020-01-26      US          5       0       3.0     0.0  0.000000\n",
              "..         ...     ...        ...     ...       ...     ...       ...\n",
              "553 2021-07-28      US   34672690  611803   68771.0   387.0  0.005627\n",
              "554 2021-07-29      US   34750860  612124   78170.0   321.0  0.004106\n",
              "555 2021-07-30      US   34945468  613013  194608.0   889.0  0.004568\n",
              "556 2021-07-31      US   34978276  613157   32808.0   144.0  0.004389\n",
              "557 2021-08-01      US   35003417  613228   25141.0    71.0  0.002824\n",
              "\n",
              "[558 rows x 7 columns]"
            ],
            "text/html": [
              "\n",
              "  <div id=\"df-9855f3e7-7291-46ac-a680-dcbf8254e393\">\n",
              "    <div class=\"colab-df-container\">\n",
              "      <div>\n",
              "<style scoped>\n",
              "    .dataframe tbody tr th:only-of-type {\n",
              "        vertical-align: middle;\n",
              "    }\n",
              "\n",
              "    .dataframe tbody tr th {\n",
              "        vertical-align: top;\n",
              "    }\n",
              "\n",
              "    .dataframe thead th {\n",
              "        text-align: right;\n",
              "    }\n",
              "</style>\n",
              "<table border=\"1\" class=\"dataframe\">\n",
              "  <thead>\n",
              "    <tr style=\"text-align: right;\">\n",
              "      <th></th>\n",
              "      <th>date</th>\n",
              "      <th>country</th>\n",
              "      <th>confirmed</th>\n",
              "      <th>deaths</th>\n",
              "      <th>dconf</th>\n",
              "      <th>ddeath</th>\n",
              "      <th>leth</th>\n",
              "    </tr>\n",
              "  </thead>\n",
              "  <tbody>\n",
              "    <tr>\n",
              "      <th>0</th>\n",
              "      <td>2020-01-22</td>\n",
              "      <td>US</td>\n",
              "      <td>1</td>\n",
              "      <td>0</td>\n",
              "      <td>NaN</td>\n",
              "      <td>NaN</td>\n",
              "      <td>NaN</td>\n",
              "    </tr>\n",
              "    <tr>\n",
              "      <th>1</th>\n",
              "      <td>2020-01-23</td>\n",
              "      <td>US</td>\n",
              "      <td>1</td>\n",
              "      <td>0</td>\n",
              "      <td>0.0</td>\n",
              "      <td>0.0</td>\n",
              "      <td>NaN</td>\n",
              "    </tr>\n",
              "    <tr>\n",
              "      <th>2</th>\n",
              "      <td>2020-01-24</td>\n",
              "      <td>US</td>\n",
              "      <td>2</td>\n",
              "      <td>0</td>\n",
              "      <td>1.0</td>\n",
              "      <td>0.0</td>\n",
              "      <td>0.000000</td>\n",
              "    </tr>\n",
              "    <tr>\n",
              "      <th>3</th>\n",
              "      <td>2020-01-25</td>\n",
              "      <td>US</td>\n",
              "      <td>2</td>\n",
              "      <td>0</td>\n",
              "      <td>0.0</td>\n",
              "      <td>0.0</td>\n",
              "      <td>NaN</td>\n",
              "    </tr>\n",
              "    <tr>\n",
              "      <th>4</th>\n",
              "      <td>2020-01-26</td>\n",
              "      <td>US</td>\n",
              "      <td>5</td>\n",
              "      <td>0</td>\n",
              "      <td>3.0</td>\n",
              "      <td>0.0</td>\n",
              "      <td>0.000000</td>\n",
              "    </tr>\n",
              "    <tr>\n",
              "      <th>...</th>\n",
              "      <td>...</td>\n",
              "      <td>...</td>\n",
              "      <td>...</td>\n",
              "      <td>...</td>\n",
              "      <td>...</td>\n",
              "      <td>...</td>\n",
              "      <td>...</td>\n",
              "    </tr>\n",
              "    <tr>\n",
              "      <th>553</th>\n",
              "      <td>2021-07-28</td>\n",
              "      <td>US</td>\n",
              "      <td>34672690</td>\n",
              "      <td>611803</td>\n",
              "      <td>68771.0</td>\n",
              "      <td>387.0</td>\n",
              "      <td>0.005627</td>\n",
              "    </tr>\n",
              "    <tr>\n",
              "      <th>554</th>\n",
              "      <td>2021-07-29</td>\n",
              "      <td>US</td>\n",
              "      <td>34750860</td>\n",
              "      <td>612124</td>\n",
              "      <td>78170.0</td>\n",
              "      <td>321.0</td>\n",
              "      <td>0.004106</td>\n",
              "    </tr>\n",
              "    <tr>\n",
              "      <th>555</th>\n",
              "      <td>2021-07-30</td>\n",
              "      <td>US</td>\n",
              "      <td>34945468</td>\n",
              "      <td>613013</td>\n",
              "      <td>194608.0</td>\n",
              "      <td>889.0</td>\n",
              "      <td>0.004568</td>\n",
              "    </tr>\n",
              "    <tr>\n",
              "      <th>556</th>\n",
              "      <td>2021-07-31</td>\n",
              "      <td>US</td>\n",
              "      <td>34978276</td>\n",
              "      <td>613157</td>\n",
              "      <td>32808.0</td>\n",
              "      <td>144.0</td>\n",
              "      <td>0.004389</td>\n",
              "    </tr>\n",
              "    <tr>\n",
              "      <th>557</th>\n",
              "      <td>2021-08-01</td>\n",
              "      <td>US</td>\n",
              "      <td>35003417</td>\n",
              "      <td>613228</td>\n",
              "      <td>25141.0</td>\n",
              "      <td>71.0</td>\n",
              "      <td>0.002824</td>\n",
              "    </tr>\n",
              "  </tbody>\n",
              "</table>\n",
              "<p>558 rows × 7 columns</p>\n",
              "</div>\n",
              "      <button class=\"colab-df-convert\" onclick=\"convertToInteractive('df-9855f3e7-7291-46ac-a680-dcbf8254e393')\"\n",
              "              title=\"Convert this dataframe to an interactive table.\"\n",
              "              style=\"display:none;\">\n",
              "        \n",
              "  <svg xmlns=\"http://www.w3.org/2000/svg\" height=\"24px\"viewBox=\"0 0 24 24\"\n",
              "       width=\"24px\">\n",
              "    <path d=\"M0 0h24v24H0V0z\" fill=\"none\"/>\n",
              "    <path d=\"M18.56 5.44l.94 2.06.94-2.06 2.06-.94-2.06-.94-.94-2.06-.94 2.06-2.06.94zm-11 1L8.5 8.5l.94-2.06 2.06-.94-2.06-.94L8.5 2.5l-.94 2.06-2.06.94zm10 10l.94 2.06.94-2.06 2.06-.94-2.06-.94-.94-2.06-.94 2.06-2.06.94z\"/><path d=\"M17.41 7.96l-1.37-1.37c-.4-.4-.92-.59-1.43-.59-.52 0-1.04.2-1.43.59L10.3 9.45l-7.72 7.72c-.78.78-.78 2.05 0 2.83L4 21.41c.39.39.9.59 1.41.59.51 0 1.02-.2 1.41-.59l7.78-7.78 2.81-2.81c.8-.78.8-2.07 0-2.86zM5.41 20L4 18.59l7.72-7.72 1.47 1.35L5.41 20z\"/>\n",
              "  </svg>\n",
              "      </button>\n",
              "      \n",
              "  <style>\n",
              "    .colab-df-container {\n",
              "      display:flex;\n",
              "      flex-wrap:wrap;\n",
              "      gap: 12px;\n",
              "    }\n",
              "\n",
              "    .colab-df-convert {\n",
              "      background-color: #E8F0FE;\n",
              "      border: none;\n",
              "      border-radius: 50%;\n",
              "      cursor: pointer;\n",
              "      display: none;\n",
              "      fill: #1967D2;\n",
              "      height: 32px;\n",
              "      padding: 0 0 0 0;\n",
              "      width: 32px;\n",
              "    }\n",
              "\n",
              "    .colab-df-convert:hover {\n",
              "      background-color: #E2EBFA;\n",
              "      box-shadow: 0px 1px 2px rgba(60, 64, 67, 0.3), 0px 1px 3px 1px rgba(60, 64, 67, 0.15);\n",
              "      fill: #174EA6;\n",
              "    }\n",
              "\n",
              "    [theme=dark] .colab-df-convert {\n",
              "      background-color: #3B4455;\n",
              "      fill: #D2E3FC;\n",
              "    }\n",
              "\n",
              "    [theme=dark] .colab-df-convert:hover {\n",
              "      background-color: #434B5C;\n",
              "      box-shadow: 0px 1px 3px 1px rgba(0, 0, 0, 0.15);\n",
              "      filter: drop-shadow(0px 1px 2px rgba(0, 0, 0, 0.3));\n",
              "      fill: #FFFFFF;\n",
              "    }\n",
              "  </style>\n",
              "\n",
              "      <script>\n",
              "        const buttonEl =\n",
              "          document.querySelector('#df-9855f3e7-7291-46ac-a680-dcbf8254e393 button.colab-df-convert');\n",
              "        buttonEl.style.display =\n",
              "          google.colab.kernel.accessAllowed ? 'block' : 'none';\n",
              "\n",
              "        async function convertToInteractive(key) {\n",
              "          const element = document.querySelector('#df-9855f3e7-7291-46ac-a680-dcbf8254e393');\n",
              "          const dataTable =\n",
              "            await google.colab.kernel.invokeFunction('convertToInteractive',\n",
              "                                                     [key], {});\n",
              "          if (!dataTable) return;\n",
              "\n",
              "          const docLinkHtml = 'Like what you see? Visit the ' +\n",
              "            '<a target=\"_blank\" href=https://colab.research.google.com/notebooks/data_table.ipynb>data table notebook</a>'\n",
              "            + ' to learn more about interactive tables.';\n",
              "          element.innerHTML = '';\n",
              "          dataTable['output_type'] = 'display_data';\n",
              "          await google.colab.output.renderOutput(dataTable, element);\n",
              "          const docLink = document.createElement('div');\n",
              "          docLink.innerHTML = docLinkHtml;\n",
              "          element.appendChild(docLink);\n",
              "        }\n",
              "      </script>\n",
              "    </div>\n",
              "  </div>\n",
              "  "
            ]
          },
          "metadata": {},
          "execution_count": 9
        }
      ]
    },
    {
      "cell_type": "code",
      "source": [
        "df1['kconf'] = df1['confirmed']/df1['confirmed'].shift(1)\n",
        "df1['kdeath']= df1['deaths']/ df1['deaths'].shift(1)\n",
        "df1['tconf'] = df1['kconf'] *100 - 100\n",
        "df1['tdeath']= df1['kdeath']*100 - 100\n",
        "df1"
      ],
      "metadata": {
        "id": "NkkNV3Ova_1P"
      },
      "execution_count": null,
      "outputs": []
    },
    {
      "cell_type": "code",
      "source": [
        "df2['kconf'] = df2['confirmed']/df2['confirmed'].shift(1)\n",
        "df2['kdeath']= df2['deaths'] / df2['deaths'].shift(1)\n",
        "df2['tconf'] = df2['kconf'] *100 - 100\n",
        "df2['tdeath']= df2['kdeath']*100 - 100\n",
        "df2"
      ],
      "metadata": {
        "id": "wa6ewEOLbDmg"
      },
      "execution_count": null,
      "outputs": []
    },
    {
      "cell_type": "code",
      "source": [
        "df1_conf_mean = (df1['confirmed'].sum() -0.5*df1['confirmed'].loc[0] -0.5*df1['confirmed'].loc[t])/t\n",
        "df1_death_mean = (df1['deaths'].sum() -0.5*df1['deaths'].loc[0] -0.5*df1['deaths'].loc[t])/t\n",
        "df1_dconf_mean = df1['dconf'].sum()/t\n",
        "df1_ddeath_mean = df1['ddeath'].sum()/t\n",
        "df1_kconf_mean = (df1['confirmed'].loc[t]/df1['confirmed'].loc[df1_conf_1st])**(1/(t-df1_conf_1st))\n",
        "df1_kdeath_mean = (df1['deaths'].loc[t]/df1['deaths'].loc[df1_death_1st])**(1/(t-df1_death_1st))\n",
        "df1_tconf_mean = df1_kconf_mean*100 - 100\n",
        "df1_tdeath_mean = df1_kdeath_mean*100 - 100\n",
        "\n",
        "df1_conf_mean, df1_death_mean, df1_dconf_mean, df1_ddeath_mean, df1_kconf_mean, df1_kdeath_mean, df1_tconf_mean, df1_tdeath_mean"
      ],
      "metadata": {
        "id": "nHhfRqjtbQJ1"
      },
      "execution_count": null,
      "outputs": []
    },
    {
      "cell_type": "code",
      "source": [
        "df2_conf_mean = (df2['confirmed'].sum() -0.5*df2['confirmed'].loc[0] -0.5*df2['confirmed'].loc[t])/t\n",
        "df2_death_mean = (df2['deaths'].sum() -0.5*df2['deaths'].loc[0] -0.5*df2['deaths'].loc[t])/t\n",
        "df2_dconf_mean = df2['dconf'].sum()/t\n",
        "df2_ddeath_mean = df2['ddeath'].sum()/t\n",
        "df2_kconf_mean = (df2['confirmed'].loc[t]/df2['confirmed'].loc[df2_conf_1st])**(1/(t-df2_conf_1st))\n",
        "df2_kdeath_mean = (df2['deaths'].loc[t]/df2['deaths'].loc[df2_death_1st])**(1/(t-df2_death_1st))\n",
        "df2_tconf_mean = df2_kconf_mean*100 - 100\n",
        "df2_tdeath_mean = df2_kdeath_mean*100 - 100\n",
        "\n",
        "df2_conf_mean, df2_death_mean, df2_dconf_mean, df2_ddeath_mean, df2_kconf_mean, df2_kdeath_mean, df2_tconf_mean, df2_tdeath_mean"
      ],
      "metadata": {
        "id": "ZpeZ3DPjbU8m"
      },
      "execution_count": null,
      "outputs": []
    },
    {
      "cell_type": "code",
      "source": [
        "df1_conf_mean = (df1['confirmed'].sum() -0.5*df1['confirmed'].loc[0] -0.5*df1['confirmed'].loc[len(df1)-1])/t\n",
        "df1_death_mean = (df1['deaths'].sum() -0.5*df1['deaths'].loc[0] -0.5*df1['deaths'].loc[len(df1)-1])/t\n",
        "df1_conf_mean, df1_death_mean"
      ],
      "metadata": {
        "id": "1jwVmOXzbkwU"
      },
      "execution_count": null,
      "outputs": []
    },
    {
      "cell_type": "code",
      "source": [
        "df2_conf_mean = (df2['confirmed'].sum() -0.5*df2['confirmed'].loc[0] -0.5*df2['confirmed'].loc[len(df2)-1])/t\n",
        "df2_death_mean = (df2['deaths'].sum() -0.5*df2['deaths'].loc[0] -0.5*df2['deaths'].loc[len(df2)-1])/t\n",
        "df2_conf_mean, df2_death_mean"
      ],
      "metadata": {
        "id": "yaZ1orynbbGj"
      },
      "execution_count": null,
      "outputs": []
    },
    {
      "cell_type": "markdown",
      "metadata": {
        "id": "QmgdWC1YAlfQ"
      },
      "source": [
        "Визуализация"
      ]
    },
    {
      "cell_type": "code",
      "metadata": {
        "id": "L4Lc6t3ZAX2N",
        "colab": {
          "base_uri": "https://localhost:8080/",
          "height": 307
        },
        "outputId": "c5dd2fa5-b131-46e1-e3e6-bb8f43b9c2f9"
      },
      "source": [
        "#sns.distplot(df1['Height'],50)\n",
        "#sns.distplot(df2['Height'],50)\n",
        "df1_date = df1.set_index('date')\n",
        "df2_date = df2.set_index('date')\n",
        "\n",
        "df1_date['leth'].plot(label=df1_label)\n",
        "df2_date['leth'].plot(label=df2_label)\n",
        "plt.title('Динамика летальности')\n",
        "plt.legend() #['Male', 'Female']\n",
        "plt.show()"
      ],
      "execution_count": 16,
      "outputs": [
        {
          "output_type": "display_data",
          "data": {
            "text/plain": [
              "<Figure size 432x288 with 1 Axes>"
            ],
            "image/png": "[encoded data removed]"
          },
          "metadata": {
            "needs_background": "light"
          }
        }
      ]
    },
    {
      "cell_type": "code",
      "source": [
        "df1_date['deaths'].plot(label=df1_label)\n",
        "df2_date['deaths'].plot(label=df2_label)\n",
        "plt.title('Динамика')\n",
        "plt.legend()  #['Male', 'Female']\n",
        "plt.show()"
      ],
      "metadata": {
        "id": "krwMBbpqaak9",
        "colab": {
          "base_uri": "https://localhost:8080/",
          "height": 307
        },
        "outputId": "e1315fcc-fbf9-4279-8c68-9d3e4f4e93f1"
      },
      "execution_count": 18,
      "outputs": [
        {
          "output_type": "display_data",
          "data": {
            "text/plain": [
              "<Figure size 432x288 with 1 Axes>"
            ],
            "image/png": "[encoded data removed]"
          },
          "metadata": {
            "needs_background": "light"
          }
        }
      ]
    },
    {
      "cell_type": "markdown",
      "source": [
        "df1['kconf'] = df1['confirmed']/df1['confirmed'].shift(1)\n",
        "df1['kdeath']= df1['deaths']/ df1['deaths'].shift(1)\n",
        "df1['tconf'] = df1['kconf'] *100 - 100\n",
        "df1['tdeath']= df1['kdeath']*100 - 100\n",
        "df1"
      ],
      "metadata": {
        "id": "9nMvKz_Oqncf"
      }
    },
    {
      "cell_type": "markdown",
      "source": [
        "df2['kconf'] = df2['confirmed']/df2['confirmed'].shift(1)\n",
        "df2['kdeath']= df2['deaths'] / df2['deaths'].shift(1)\n",
        "df2['tconf'] = df2['kconf'] *100 - 100\n",
        "df2['tdeath']= df2['kdeath']*100 - 100\n",
        "df2"
      ],
      "metadata": {
        "id": "B-ENep0oxXy9"
      }
    },
    {
      "cell_type": "markdown",
      "source": [
        "df1_conf_mean = (df1['confirmed'].sum() -0.5*df1['confirmed'].loc[0] -0.5*df1['confirmed'].loc[t])/t\n",
        "df1_death_mean = (df1['deaths'].sum() -0.5*df1['deaths'].loc[0] -0.5*df1['deaths'].loc[t])/t\n",
        "df1_dconf_mean = df1['dconf'].sum()/t\n",
        "df1_ddeath_mean = df1['ddeath'].sum()/t\n",
        "df1_kconf_mean = (df1['confirmed'].loc[t]/df1['confirmed'].loc[df1_conf_1st])**(1/(t-df1_conf_1st))\n",
        "df1_kdeath_mean = (df1['deaths'].loc[t]/df1['deaths'].loc[df1_death_1st])**(1/(t-df1_death_1st))\n",
        "df1_tconf_mean = df1_kconf_mean*100 - 100\n",
        "df1_tdeath_mean = df1_kdeath_mean*100 - 100\n",
        "\n",
        "df1_conf_mean, df1_death_mean, df1_dconf_mean, df1_ddeath_mean, df1_kconf_mean, df1_kdeath_mean, df1_tconf_mean, df1_tdeath_mean"
      ],
      "metadata": {
        "id": "kY6F7yM7xq3P"
      }
    },
    {
      "cell_type": "markdown",
      "source": [
        "df2_conf_mean = (df2['confirmed'].sum() -0.5*df2['confirmed'].loc[0] -0.5*df2['confirmed'].loc[t])/t\n",
        "df2_death_mean = (df2['deaths'].sum() -0.5*df2['deaths'].loc[0] -0.5*df2['deaths'].loc[t])/t\n",
        "df2_dconf_mean = df2['dconf'].sum()/t\n",
        "df2_ddeath_mean = df2['ddeath'].sum()/t\n",
        "df2_kconf_mean = (df2['confirmed'].loc[t]/df2['confirmed'].loc[df2_conf_1st])**(1/(t-df2_conf_1st))\n",
        "df2_kdeath_mean = (df2['deaths'].loc[t]/df2['deaths'].loc[df2_death_1st])**(1/(t-df2_death_1st))\n",
        "df2_tconf_mean = df2_kconf_mean*100 - 100\n",
        "df2_tdeath_mean = df2_kdeath_mean*100 - 100\n",
        "\n",
        "df2_conf_mean, df2_death_mean, df2_dconf_mean, df2_ddeath_mean, df2_kconf_mean, df2_kdeath_mean, df2_tconf_mean, df2_tdeath_mean"
      ],
      "metadata": {
        "id": "1sJQdZQ8iKla"
      }
    },
    {
      "cell_type": "markdown",
      "source": [
        "df2_conf_mean = (df2['confirmed'].sum() -0.5*df2['confirmed'].loc[0] -0.5*df2['confirmed'].loc[len(df2)-1])/t\n",
        "df2_death_mean = (df2['deaths'].sum() -0.5*df2['deaths'].loc[0] -0.5*df2['deaths'].loc[len(df2)-1])/t\n",
        "df2_conf_mean, df2_death_mean"
      ],
      "metadata": {
        "id": "cBF0zxJoP0sl"
      }
    },
    {
      "cell_type": "code",
      "source": [
        ""
      ],
      "metadata": {
        "id": "ZY3pC5PmQMW7"
      },
      "execution_count": 16,
      "outputs": []
    }
  ]
}